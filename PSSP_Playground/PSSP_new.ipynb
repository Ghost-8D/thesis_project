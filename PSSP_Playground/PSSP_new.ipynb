{
 "cells": [
  {
   "cell_type": "code",
   "execution_count": 1,
   "metadata": {
    "colab": {
     "base_uri": "https://localhost:8080/",
     "height": 122
    },
    "colab_type": "code",
    "id": "z7jq5n_oJLqc",
    "outputId": "2b2deceb-f802-4970-e3cd-d0dd0a939682"
   },
   "outputs": [],
   "source": [
    "# from google.colab import drive\n",
    "# drive.mount('/content/gdrive', force_remount=True)\n",
    "# data_dir = \"/content/gdrive/My Drive/PSSP_dataset/datasetsPlusOne\"\n",
    "data_dir = \"\""
   ]
  },
  {
   "cell_type": "code",
   "execution_count": 2,
   "metadata": {
    "colab": {},
    "colab_type": "code",
    "id": "4WguTIeEJMd1"
   },
   "outputs": [],
   "source": [
    "%reload_ext autoreload\n",
    "%autoreload 2\n",
    "%matplotlib inline"
   ]
  },
  {
   "cell_type": "code",
   "execution_count": 3,
   "metadata": {
    "colab": {},
    "colab_type": "code",
    "id": "4bzJ9rX7Jduu"
   },
   "outputs": [],
   "source": [
    "import numpy as np\n",
    "import pandas as pd\n",
    "from fastai import *\n",
    "from fastai.tabular import *"
   ]
  },
  {
   "cell_type": "code",
   "execution_count": 36,
   "metadata": {},
   "outputs": [],
   "source": [
    "np.random.seed(42)"
   ]
  },
  {
   "cell_type": "code",
   "execution_count": 37,
   "metadata": {
    "colab": {
     "base_uri": "https://localhost:8080/",
     "height": 34
    },
    "colab_type": "code",
    "id": "gNTWA3XNO4z5",
    "outputId": "a34b6ad9-4b3c-49d6-a9cf-ad06c4addd59"
   },
   "outputs": [
    {
     "data": {
      "text/plain": [
       "'/Users/ghost/Desktop/PSSP_Playground'"
      ]
     },
     "execution_count": 37,
     "metadata": {},
     "output_type": "execute_result"
    }
   ],
   "source": [
    "# path = Config.data_path()/'pssp' # for google drive\n",
    "path = '/Users/ghost/Desktop/PSSP_Playground'\n",
    "# path = Path(base_dir + '.fastai/data/ssdd') \n",
    "# path.mkdir(parents=True, exist_ok=True) # for google drive\n",
    "path"
   ]
  },
  {
   "cell_type": "code",
   "execution_count": 38,
   "metadata": {
    "colab": {},
    "colab_type": "code",
    "id": "kXYz1LmgJqZi"
   },
   "outputs": [],
   "source": [
    "train_path = path + '/trainSet0PlusOne.csv' # train_path = data_dir + '/trainSet0PlusOne.csv'\n",
    "test_path = path + '/testSet0PlusOne.csv' # test_path = data_dir + '/testSet0PlusOne.csv'\n",
    "df_train = pd.read_csv(train_path, header=None)\n",
    "df_test = pd.read_csv(test_path, header=None)"
   ]
  },
  {
   "cell_type": "code",
   "execution_count": 39,
   "metadata": {
    "colab": {
     "base_uri": "https://localhost:8080/",
     "height": 379
    },
    "colab_type": "code",
    "id": "bT4eppvqdzz-",
    "outputId": "b64a862b-dddf-4f60-f111-92fb1b8d511e"
   },
   "outputs": [
    {
     "data": {
      "text/html": [
       "<div>\n",
       "<style scoped>\n",
       "    .dataframe tbody tr th:only-of-type {\n",
       "        vertical-align: middle;\n",
       "    }\n",
       "\n",
       "    .dataframe tbody tr th {\n",
       "        vertical-align: top;\n",
       "    }\n",
       "\n",
       "    .dataframe thead th {\n",
       "        text-align: right;\n",
       "    }\n",
       "</style>\n",
       "<table border=\"1\" class=\"dataframe\">\n",
       "  <thead>\n",
       "    <tr style=\"text-align: right;\">\n",
       "      <th></th>\n",
       "      <th>0</th>\n",
       "      <th>1</th>\n",
       "      <th>2</th>\n",
       "      <th>3</th>\n",
       "      <th>4</th>\n",
       "      <th>5</th>\n",
       "      <th>6</th>\n",
       "      <th>7</th>\n",
       "      <th>8</th>\n",
       "      <th>9</th>\n",
       "      <th>...</th>\n",
       "      <th>51</th>\n",
       "      <th>52</th>\n",
       "      <th>53</th>\n",
       "      <th>54</th>\n",
       "      <th>55</th>\n",
       "      <th>56</th>\n",
       "      <th>57</th>\n",
       "      <th>58</th>\n",
       "      <th>59</th>\n",
       "      <th>60</th>\n",
       "    </tr>\n",
       "  </thead>\n",
       "  <tbody>\n",
       "    <tr>\n",
       "      <td>0</td>\n",
       "      <td>0</td>\n",
       "      <td>0</td>\n",
       "      <td>0</td>\n",
       "      <td>0</td>\n",
       "      <td>0</td>\n",
       "      <td>0</td>\n",
       "      <td>0</td>\n",
       "      <td>0</td>\n",
       "      <td>0</td>\n",
       "      <td>0</td>\n",
       "      <td>...</td>\n",
       "      <td>0</td>\n",
       "      <td>0</td>\n",
       "      <td>0</td>\n",
       "      <td>0</td>\n",
       "      <td>0</td>\n",
       "      <td>0</td>\n",
       "      <td>0</td>\n",
       "      <td>0</td>\n",
       "      <td>0</td>\n",
       "      <td>0</td>\n",
       "    </tr>\n",
       "    <tr>\n",
       "      <td>1</td>\n",
       "      <td>0</td>\n",
       "      <td>0</td>\n",
       "      <td>0</td>\n",
       "      <td>0</td>\n",
       "      <td>0</td>\n",
       "      <td>0</td>\n",
       "      <td>0</td>\n",
       "      <td>0</td>\n",
       "      <td>100</td>\n",
       "      <td>0</td>\n",
       "      <td>...</td>\n",
       "      <td>31</td>\n",
       "      <td>0</td>\n",
       "      <td>0</td>\n",
       "      <td>0</td>\n",
       "      <td>0</td>\n",
       "      <td>0</td>\n",
       "      <td>0</td>\n",
       "      <td>0</td>\n",
       "      <td>0</td>\n",
       "      <td>0</td>\n",
       "    </tr>\n",
       "    <tr>\n",
       "      <td>2</td>\n",
       "      <td>0</td>\n",
       "      <td>0</td>\n",
       "      <td>0</td>\n",
       "      <td>0</td>\n",
       "      <td>0</td>\n",
       "      <td>0</td>\n",
       "      <td>0</td>\n",
       "      <td>0</td>\n",
       "      <td>0</td>\n",
       "      <td>100</td>\n",
       "      <td>...</td>\n",
       "      <td>0</td>\n",
       "      <td>0</td>\n",
       "      <td>0</td>\n",
       "      <td>0</td>\n",
       "      <td>0</td>\n",
       "      <td>0</td>\n",
       "      <td>0</td>\n",
       "      <td>0</td>\n",
       "      <td>0</td>\n",
       "      <td>1</td>\n",
       "    </tr>\n",
       "    <tr>\n",
       "      <td>3</td>\n",
       "      <td>0</td>\n",
       "      <td>0</td>\n",
       "      <td>0</td>\n",
       "      <td>0</td>\n",
       "      <td>0</td>\n",
       "      <td>0</td>\n",
       "      <td>0</td>\n",
       "      <td>21</td>\n",
       "      <td>49</td>\n",
       "      <td>0</td>\n",
       "      <td>...</td>\n",
       "      <td>51</td>\n",
       "      <td>0</td>\n",
       "      <td>0</td>\n",
       "      <td>0</td>\n",
       "      <td>0</td>\n",
       "      <td>0</td>\n",
       "      <td>0</td>\n",
       "      <td>0</td>\n",
       "      <td>0</td>\n",
       "      <td>1</td>\n",
       "    </tr>\n",
       "    <tr>\n",
       "      <td>4</td>\n",
       "      <td>42</td>\n",
       "      <td>0</td>\n",
       "      <td>0</td>\n",
       "      <td>0</td>\n",
       "      <td>28</td>\n",
       "      <td>0</td>\n",
       "      <td>0</td>\n",
       "      <td>0</td>\n",
       "      <td>31</td>\n",
       "      <td>0</td>\n",
       "      <td>...</td>\n",
       "      <td>0</td>\n",
       "      <td>0</td>\n",
       "      <td>0</td>\n",
       "      <td>0</td>\n",
       "      <td>0</td>\n",
       "      <td>0</td>\n",
       "      <td>0</td>\n",
       "      <td>0</td>\n",
       "      <td>0</td>\n",
       "      <td>1</td>\n",
       "    </tr>\n",
       "    <tr>\n",
       "      <td>5</td>\n",
       "      <td>0</td>\n",
       "      <td>0</td>\n",
       "      <td>0</td>\n",
       "      <td>0</td>\n",
       "      <td>0</td>\n",
       "      <td>0</td>\n",
       "      <td>0</td>\n",
       "      <td>0</td>\n",
       "      <td>0</td>\n",
       "      <td>0</td>\n",
       "      <td>...</td>\n",
       "      <td>51</td>\n",
       "      <td>0</td>\n",
       "      <td>0</td>\n",
       "      <td>0</td>\n",
       "      <td>0</td>\n",
       "      <td>0</td>\n",
       "      <td>0</td>\n",
       "      <td>0</td>\n",
       "      <td>0</td>\n",
       "      <td>1</td>\n",
       "    </tr>\n",
       "    <tr>\n",
       "      <td>6</td>\n",
       "      <td>100</td>\n",
       "      <td>0</td>\n",
       "      <td>0</td>\n",
       "      <td>0</td>\n",
       "      <td>0</td>\n",
       "      <td>0</td>\n",
       "      <td>0</td>\n",
       "      <td>0</td>\n",
       "      <td>0</td>\n",
       "      <td>0</td>\n",
       "      <td>...</td>\n",
       "      <td>0</td>\n",
       "      <td>0</td>\n",
       "      <td>0</td>\n",
       "      <td>0</td>\n",
       "      <td>0</td>\n",
       "      <td>0</td>\n",
       "      <td>0</td>\n",
       "      <td>0</td>\n",
       "      <td>0</td>\n",
       "      <td>1</td>\n",
       "    </tr>\n",
       "    <tr>\n",
       "      <td>7</td>\n",
       "      <td>0</td>\n",
       "      <td>0</td>\n",
       "      <td>0</td>\n",
       "      <td>0</td>\n",
       "      <td>0</td>\n",
       "      <td>0</td>\n",
       "      <td>0</td>\n",
       "      <td>0</td>\n",
       "      <td>0</td>\n",
       "      <td>0</td>\n",
       "      <td>...</td>\n",
       "      <td>0</td>\n",
       "      <td>0</td>\n",
       "      <td>0</td>\n",
       "      <td>0</td>\n",
       "      <td>0</td>\n",
       "      <td>0</td>\n",
       "      <td>0</td>\n",
       "      <td>0</td>\n",
       "      <td>0</td>\n",
       "      <td>0</td>\n",
       "    </tr>\n",
       "    <tr>\n",
       "      <td>8</td>\n",
       "      <td>0</td>\n",
       "      <td>0</td>\n",
       "      <td>0</td>\n",
       "      <td>0</td>\n",
       "      <td>0</td>\n",
       "      <td>0</td>\n",
       "      <td>0</td>\n",
       "      <td>0</td>\n",
       "      <td>0</td>\n",
       "      <td>100</td>\n",
       "      <td>...</td>\n",
       "      <td>39</td>\n",
       "      <td>0</td>\n",
       "      <td>0</td>\n",
       "      <td>0</td>\n",
       "      <td>0</td>\n",
       "      <td>0</td>\n",
       "      <td>0</td>\n",
       "      <td>0</td>\n",
       "      <td>0</td>\n",
       "      <td>0</td>\n",
       "    </tr>\n",
       "    <tr>\n",
       "      <td>9</td>\n",
       "      <td>0</td>\n",
       "      <td>0</td>\n",
       "      <td>0</td>\n",
       "      <td>0</td>\n",
       "      <td>0</td>\n",
       "      <td>0</td>\n",
       "      <td>0</td>\n",
       "      <td>0</td>\n",
       "      <td>62</td>\n",
       "      <td>0</td>\n",
       "      <td>...</td>\n",
       "      <td>0</td>\n",
       "      <td>0</td>\n",
       "      <td>0</td>\n",
       "      <td>0</td>\n",
       "      <td>0</td>\n",
       "      <td>0</td>\n",
       "      <td>0</td>\n",
       "      <td>0</td>\n",
       "      <td>0</td>\n",
       "      <td>0</td>\n",
       "    </tr>\n",
       "  </tbody>\n",
       "</table>\n",
       "<p>10 rows × 61 columns</p>\n",
       "</div>"
      ],
      "text/plain": [
       "    0   1   2   3   4   5   6   7    8    9   ...  51  52  53  54  55  56  57  \\\n",
       "0    0   0   0   0   0   0   0   0    0    0  ...   0   0   0   0   0   0   0   \n",
       "1    0   0   0   0   0   0   0   0  100    0  ...  31   0   0   0   0   0   0   \n",
       "2    0   0   0   0   0   0   0   0    0  100  ...   0   0   0   0   0   0   0   \n",
       "3    0   0   0   0   0   0   0  21   49    0  ...  51   0   0   0   0   0   0   \n",
       "4   42   0   0   0  28   0   0   0   31    0  ...   0   0   0   0   0   0   0   \n",
       "5    0   0   0   0   0   0   0   0    0    0  ...  51   0   0   0   0   0   0   \n",
       "6  100   0   0   0   0   0   0   0    0    0  ...   0   0   0   0   0   0   0   \n",
       "7    0   0   0   0   0   0   0   0    0    0  ...   0   0   0   0   0   0   0   \n",
       "8    0   0   0   0   0   0   0   0    0  100  ...  39   0   0   0   0   0   0   \n",
       "9    0   0   0   0   0   0   0   0   62    0  ...   0   0   0   0   0   0   0   \n",
       "\n",
       "   58  59  60  \n",
       "0   0   0   0  \n",
       "1   0   0   0  \n",
       "2   0   0   1  \n",
       "3   0   0   1  \n",
       "4   0   0   1  \n",
       "5   0   0   1  \n",
       "6   0   0   1  \n",
       "7   0   0   0  \n",
       "8   0   0   0  \n",
       "9   0   0   0  \n",
       "\n",
       "[10 rows x 61 columns]"
      ]
     },
     "execution_count": 39,
     "metadata": {},
     "output_type": "execute_result"
    }
   ],
   "source": [
    "df_train.head(10)"
   ]
  },
  {
   "cell_type": "code",
   "execution_count": 40,
   "metadata": {
    "colab": {
     "base_uri": "https://localhost:8080/",
     "height": 34
    },
    "colab_type": "code",
    "id": "ZCBzjpFkf-ha",
    "outputId": "fc3880b6-4b65-4229-8e32-f6d059c75dbe"
   },
   "outputs": [
    {
     "data": {
      "text/plain": [
       "61"
      ]
     },
     "execution_count": 40,
     "metadata": {},
     "output_type": "execute_result"
    }
   ],
   "source": [
    "NEIGHBOURS = 1 # 1 amino-acid left and 1 amino-acid right added \n",
    "AMINO_ACID_LEN = 20\n",
    "TOTAL_AMINO_ACIDS = (2 * NEIGHBOURS + 1) * AMINO_ACID_LEN\n",
    "TOTAL_COLS = TOTAL_AMINO_ACIDS + 1 # plus the secondary structure category\n",
    "TOTAL_COLS"
   ]
  },
  {
   "cell_type": "code",
   "execution_count": 41,
   "metadata": {
    "colab": {
     "base_uri": "https://localhost:8080/",
     "height": 34
    },
    "colab_type": "code",
    "id": "ns1MfG9afKEg",
    "outputId": "7ec42e83-97d3-44dd-dc49-60be2b0c8caa"
   },
   "outputs": [
    {
     "data": {
      "text/plain": [
       "77092"
      ]
     },
     "execution_count": 41,
     "metadata": {},
     "output_type": "execute_result"
    }
   ],
   "source": [
    "df_train.columns = [ str(x) for x in range(0, TOTAL_COLS) ]\n",
    "TRAIN_RECORDS = df_train.shape[0]\n",
    "TRAIN_RECORDS"
   ]
  },
  {
   "cell_type": "code",
   "execution_count": 42,
   "metadata": {
    "colab": {
     "base_uri": "https://localhost:8080/",
     "height": 34
    },
    "colab_type": "code",
    "id": "wM5u9K4utRBM",
    "outputId": "30e16506-d5f8-4447-ad16-f0088e255acd"
   },
   "outputs": [
    {
     "data": {
      "text/plain": [
       "7289"
      ]
     },
     "execution_count": 42,
     "metadata": {},
     "output_type": "execute_result"
    }
   ],
   "source": [
    "df_test.columns = [ str(x) for x in range(0, TOTAL_COLS) ]\n",
    "TEST_RECORDS = df_test.shape[0]\n",
    "TEST_RECORDS"
   ]
  },
  {
   "cell_type": "code",
   "execution_count": 43,
   "metadata": {
    "colab": {},
    "colab_type": "code",
    "id": "NcC8TNKKsb1v"
   },
   "outputs": [],
   "source": [
    "df = pd.concat([df_train, df_test], ignore_index=True)"
   ]
  },
  {
   "cell_type": "code",
   "execution_count": 44,
   "metadata": {
    "colab": {},
    "colab_type": "code",
    "id": "MEF8ng3YKecO"
   },
   "outputs": [],
   "source": [
    "dep_var = str(TOTAL_AMINO_ACIDS)\n",
    "#cat_names = []\n",
    "cont_names = [ str(x) for x in range(0, TOTAL_AMINO_ACIDS) ]\n",
    "procs = [FillMissing, Categorify, Normalize]"
   ]
  },
  {
   "cell_type": "code",
   "execution_count": 45,
   "metadata": {
    "colab": {},
    "colab_type": "code",
    "id": "xHUJjrdYKlF8"
   },
   "outputs": [],
   "source": [
    "test = TabularList.from_df(df_test.copy(), path=test_path, cont_names=cont_names)"
   ]
  },
  {
   "cell_type": "code",
   "execution_count": 46,
   "metadata": {
    "colab": {},
    "colab_type": "code",
    "id": "ybjJOoLQ382y"
   },
   "outputs": [],
   "source": [
    "VAL_START = TRAIN_RECORDS - TEST_RECORDS"
   ]
  },
  {
   "cell_type": "code",
   "execution_count": 47,
   "metadata": {
    "colab": {},
    "colab_type": "code",
    "id": "9fsREdECQ2gx"
   },
   "outputs": [],
   "source": [
    "data = (TabularList.from_df(df_train, path=train_path, cont_names=cont_names, procs=procs)\n",
    "                             .split_by_idx(list(range(VAL_START,TRAIN_RECORDS)))\n",
    "                             .label_from_df(cols=dep_var)\n",
    "                             .add_test(test)\n",
    "                             .databunch())"
   ]
  },
  {
   "cell_type": "code",
   "execution_count": 48,
   "metadata": {
    "colab": {
     "base_uri": "https://localhost:8080/",
     "height": 411
    },
    "colab_type": "code",
    "id": "xeBW95CyJmod",
    "outputId": "088c31eb-3657-4140-8ebf-bb49b10d7e55"
   },
   "outputs": [
    {
     "name": "stderr",
     "output_type": "stream",
     "text": [
      "ERROR:root:Internal Python error in the inspect module.\n",
      "Below is the traceback from this internal error.\n",
      "\n"
     ]
    },
    {
     "name": "stdout",
     "output_type": "stream",
     "text": [
      "Traceback (most recent call last):\n",
      "  File \"/Users/ghost/.pyenv/versions/3.7.3/lib/python3.7/site-packages/IPython/core/interactiveshell.py\", line 3326, in run_code\n",
      "    exec(code_obj, self.user_global_ns, self.user_ns)\n",
      "  File \"<ipython-input-48-0ef5bf68f37d>\", line 1, in <module>\n",
      "    data.show_batch(rows=10)\n",
      "  File \"/Users/ghost/.pyenv/versions/3.7.3/lib/python3.7/site-packages/fastai/basic_data.py\", line 185, in show_batch\n",
      "    x,y = self.one_batch(ds_type, True, True)\n",
      "  File \"/Users/ghost/.pyenv/versions/3.7.3/lib/python3.7/site-packages/fastai/basic_data.py\", line 168, in one_batch\n",
      "    try:     x,y = next(iter(dl))\n",
      "  File \"/Users/ghost/.pyenv/versions/3.7.3/lib/python3.7/site-packages/fastai/basic_data.py\", line 75, in __iter__\n",
      "    for b in self.dl: yield self.proc_batch(b)\n",
      "  File \"/Users/ghost/.pyenv/versions/3.7.3/lib/python3.7/site-packages/torch/utils/data/dataloader.py\", line 278, in __iter__\n",
      "    return _MultiProcessingDataLoaderIter(self)\n",
      "  File \"/Users/ghost/.pyenv/versions/3.7.3/lib/python3.7/site-packages/torch/utils/data/dataloader.py\", line 667, in __init__\n",
      "    index_queue = multiprocessing_context.Queue()\n",
      "  File \"/Users/ghost/.pyenv/versions/3.7.3/lib/python3.7/multiprocessing/context.py\", line 102, in Queue\n",
      "  File \"/Users/ghost/.pyenv/versions/3.7.3/lib/python3.7/multiprocessing/queues.py\", line 47, in __init__\n",
      "  File \"/Users/ghost/.pyenv/versions/3.7.3/lib/python3.7/multiprocessing/context.py\", line 67, in Lock\n",
      "  File \"/Users/ghost/.pyenv/versions/3.7.3/lib/python3.7/multiprocessing/synchronize.py\", line 162, in __init__\n",
      "  File \"/Users/ghost/.pyenv/versions/3.7.3/lib/python3.7/multiprocessing/synchronize.py\", line 59, in __init__\n",
      "OSError: [Errno 24] Too many open files\n",
      "\n",
      "During handling of the above exception, another exception occurred:\n",
      "\n",
      "Traceback (most recent call last):\n",
      "  File \"/Users/ghost/.pyenv/versions/3.7.3/lib/python3.7/site-packages/IPython/core/interactiveshell.py\", line 2040, in showtraceback\n",
      "    stb = value._render_traceback_()\n",
      "AttributeError: 'OSError' object has no attribute '_render_traceback_'\n",
      "\n",
      "During handling of the above exception, another exception occurred:\n",
      "\n",
      "Traceback (most recent call last):\n",
      "  File \"/Users/ghost/.pyenv/versions/3.7.3/lib/python3.7/site-packages/IPython/core/ultratb.py\", line 1101, in get_records\n",
      "  File \"/Users/ghost/.pyenv/versions/3.7.3/lib/python3.7/site-packages/IPython/core/ultratb.py\", line 319, in wrapped\n",
      "  File \"/Users/ghost/.pyenv/versions/3.7.3/lib/python3.7/site-packages/IPython/core/ultratb.py\", line 353, in _fixed_getinnerframes\n",
      "  File \"/Users/ghost/.pyenv/versions/3.7.3/lib/python3.7/inspect.py\", line 1502, in getinnerframes\n",
      "  File \"/Users/ghost/.pyenv/versions/3.7.3/lib/python3.7/inspect.py\", line 1460, in getframeinfo\n",
      "  File \"/Users/ghost/.pyenv/versions/3.7.3/lib/python3.7/inspect.py\", line 696, in getsourcefile\n",
      "  File \"/Users/ghost/.pyenv/versions/3.7.3/lib/python3.7/inspect.py\", line 725, in getmodule\n",
      "  File \"/Users/ghost/.pyenv/versions/3.7.3/lib/python3.7/inspect.py\", line 709, in getabsfile\n",
      "  File \"/Users/ghost/.pyenv/versions/3.7.3/lib/python3.7/posixpath.py\", line 383, in abspath\n",
      "OSError: [Errno 24] Too many open files\n"
     ]
    },
    {
     "ename": "OSError",
     "evalue": "[Errno 24] Too many open files",
     "output_type": "error",
     "traceback": [
      "\u001b[0;31m---------------------------------------------------------------------------\u001b[0m"
     ]
    }
   ],
   "source": [
    "data.show_batch(rows=10)"
   ]
  },
  {
   "cell_type": "code",
   "execution_count": 16,
   "metadata": {
    "colab": {},
    "colab_type": "code",
    "id": "nYcSeWhUyKLc"
   },
   "outputs": [],
   "source": [
    "learn = tabular_learner(data, layers=[200,100], metrics=accuracy)"
   ]
  },
  {
   "cell_type": "code",
   "execution_count": 17,
   "metadata": {},
   "outputs": [],
   "source": [
    "learn.model_dir = path"
   ]
  },
  {
   "cell_type": "code",
   "execution_count": 18,
   "metadata": {
    "colab": {},
    "colab_type": "code",
    "id": "b3bYaE9M8Cqw"
   },
   "outputs": [],
   "source": [
    "learn.save('pre-train')"
   ]
  },
  {
   "cell_type": "code",
   "execution_count": 19,
   "metadata": {
    "colab": {
     "base_uri": "https://localhost:8080/",
     "height": 173
    },
    "colab_type": "code",
    "id": "LpzwuQPJ7Qno",
    "outputId": "16aae520-30e6-4088-f45d-734cf8697771"
   },
   "outputs": [
    {
     "data": {
      "text/html": [
       "<table border=\"1\" class=\"dataframe\">\n",
       "  <thead>\n",
       "    <tr style=\"text-align: left;\">\n",
       "      <th>epoch</th>\n",
       "      <th>train_loss</th>\n",
       "      <th>valid_loss</th>\n",
       "      <th>accuracy</th>\n",
       "      <th>time</th>\n",
       "    </tr>\n",
       "  </thead>\n",
       "  <tbody>\n",
       "    <tr>\n",
       "      <td>0</td>\n",
       "      <td>0.806053</td>\n",
       "      <td>0.769591</td>\n",
       "      <td>0.675676</td>\n",
       "      <td>00:05</td>\n",
       "    </tr>\n",
       "    <tr>\n",
       "      <td>1</td>\n",
       "      <td>0.781067</td>\n",
       "      <td>0.738773</td>\n",
       "      <td>0.685416</td>\n",
       "      <td>00:05</td>\n",
       "    </tr>\n",
       "    <tr>\n",
       "      <td>2</td>\n",
       "      <td>0.746296</td>\n",
       "      <td>0.726062</td>\n",
       "      <td>0.695157</td>\n",
       "      <td>00:05</td>\n",
       "    </tr>\n",
       "    <tr>\n",
       "      <td>3</td>\n",
       "      <td>0.735325</td>\n",
       "      <td>0.719970</td>\n",
       "      <td>0.695706</td>\n",
       "      <td>00:05</td>\n",
       "    </tr>\n",
       "  </tbody>\n",
       "</table>"
      ],
      "text/plain": [
       "<IPython.core.display.HTML object>"
      ]
     },
     "metadata": {},
     "output_type": "display_data"
    }
   ],
   "source": [
    "learn.fit_one_cycle(4)"
   ]
  },
  {
   "cell_type": "code",
   "execution_count": 20,
   "metadata": {
    "colab": {},
    "colab_type": "code",
    "id": "Pi0YdBmW8Hgk"
   },
   "outputs": [],
   "source": [
    "learn.save('stage-1')"
   ]
  },
  {
   "cell_type": "code",
   "execution_count": 21,
   "metadata": {
    "colab": {},
    "colab_type": "code",
    "id": "nQZ5JDu97lSf"
   },
   "outputs": [],
   "source": [
    "learn.unfreeze()"
   ]
  },
  {
   "cell_type": "code",
   "execution_count": 22,
   "metadata": {
    "colab": {
     "base_uri": "https://localhost:8080/",
     "height": 324
    },
    "colab_type": "code",
    "id": "GwwjFouG7pwd",
    "outputId": "b00d37de-2009-48cc-a05f-f802d2bc076d"
   },
   "outputs": [
    {
     "data": {
      "text/html": [],
      "text/plain": [
       "<IPython.core.display.HTML object>"
      ]
     },
     "metadata": {},
     "output_type": "display_data"
    },
    {
     "name": "stdout",
     "output_type": "stream",
     "text": [
      "LR Finder is complete, type {learner_name}.recorder.plot() to see the graph.\n"
     ]
    }
   ],
   "source": [
    "learn.lr_find()"
   ]
  },
  {
   "cell_type": "code",
   "execution_count": 23,
   "metadata": {
    "colab": {},
    "colab_type": "code",
    "id": "FF5vc4yW8OAO"
   },
   "outputs": [
    {
     "data": {
      "image/png": "[encoded data removed]",
      "text/plain": [
       "<Figure size 432x288 with 1 Axes>"
      ]
     },
     "metadata": {
      "needs_background": "light"
     },
     "output_type": "display_data"
    }
   ],
   "source": [
    "learn.recorder.plot()"
   ]
  },
  {
   "cell_type": "code",
   "execution_count": 24,
   "metadata": {
    "colab": {
     "base_uri": "https://localhost:8080/",
     "height": 359
    },
    "colab_type": "code",
    "id": "neebyv6r3GVc",
    "outputId": "a0aeeebb-13b1-4ee6-8ea7-c3edfe874050"
   },
   "outputs": [
    {
     "data": {
      "text/html": [
       "<table border=\"1\" class=\"dataframe\">\n",
       "  <thead>\n",
       "    <tr style=\"text-align: left;\">\n",
       "      <th>epoch</th>\n",
       "      <th>train_loss</th>\n",
       "      <th>valid_loss</th>\n",
       "      <th>accuracy</th>\n",
       "      <th>time</th>\n",
       "    </tr>\n",
       "  </thead>\n",
       "  <tbody>\n",
       "    <tr>\n",
       "      <td>0</td>\n",
       "      <td>0.726734</td>\n",
       "      <td>0.719729</td>\n",
       "      <td>0.696255</td>\n",
       "      <td>00:05</td>\n",
       "    </tr>\n",
       "    <tr>\n",
       "      <td>1</td>\n",
       "      <td>0.732936</td>\n",
       "      <td>0.722242</td>\n",
       "      <td>0.695569</td>\n",
       "      <td>00:05</td>\n",
       "    </tr>\n",
       "    <tr>\n",
       "      <td>2</td>\n",
       "      <td>0.721322</td>\n",
       "      <td>0.716182</td>\n",
       "      <td>0.700645</td>\n",
       "      <td>00:05</td>\n",
       "    </tr>\n",
       "    <tr>\n",
       "      <td>3</td>\n",
       "      <td>0.727376</td>\n",
       "      <td>0.720515</td>\n",
       "      <td>0.697901</td>\n",
       "      <td>00:05</td>\n",
       "    </tr>\n",
       "  </tbody>\n",
       "</table>"
      ],
      "text/plain": [
       "<IPython.core.display.HTML object>"
      ]
     },
     "metadata": {},
     "output_type": "display_data"
    }
   ],
   "source": [
    "learn.fit_one_cycle(4, slice(3e-4))"
   ]
  },
  {
   "cell_type": "code",
   "execution_count": 25,
   "metadata": {},
   "outputs": [],
   "source": [
    "# learn.load('stage-1')"
   ]
  },
  {
   "cell_type": "code",
   "execution_count": 26,
   "metadata": {
    "colab": {},
    "colab_type": "code",
    "id": "OysdG_7M8qXK"
   },
   "outputs": [],
   "source": [
    "learn.save('stage-2')"
   ]
  },
  {
   "cell_type": "code",
   "execution_count": 30,
   "metadata": {},
   "outputs": [
    {
     "data": {
      "text/plain": [
       "Learner(data=TabularDataBunch;\n",
       "\n",
       "Train: LabelList (69803 items)\n",
       "x: TabularList\n",
       "0 -0.5394; 1 -0.5559; 2 -0.4873; 3 -0.3469; 4 -0.3680; 5 -0.1936; 6 -0.3383; 7 -0.4317; 8 -0.6192; 9 -0.3561; 10 -0.5646; 11 -0.5151; 12 -0.2005; 13 -0.3063; 14 -0.4491; 15 -0.5005; 16 -0.4577; 17 -0.5115; 18 -0.4373; 19 -0.4563; 20 -0.5396; 21 -0.5562; 22 -0.4875; 23 -0.3449; 24 -0.3679; 25 -0.1938; 26 -0.3385; 27 -0.4321; 28 6.8776; 29 -0.3556; 30 -0.5638; 31 -0.5136; 32 -0.2004; 33 -0.3063; 34 -0.4487; 35 -0.5000; 36 -0.4566; 37 -0.5115; 38 -0.4365; 39 -0.4564; 40 -0.5396; 41 -0.5557; 42 -0.4868; 43 -0.3557; 44 -0.3681; 45 -0.1937; 46 -0.3384; 47 -0.4318; 48 -0.6198; 49 7.3808; 50 -0.5649; 51 -0.5151; 52 -0.2004; 53 -0.3068; 54 -0.4489; 55 -0.5000; 56 -0.4572; 57 -0.5112; 58 -0.4364; 59 -0.4565; ,0 -0.5394; 1 -0.5559; 2 -0.4873; 3 -0.3469; 4 -0.3680; 5 -0.1936; 6 -0.3383; 7 -0.4317; 8 6.9335; 9 -0.3561; 10 -0.5646; 11 -0.5151; 12 -0.2005; 13 -0.3063; 14 -0.4491; 15 -0.5005; 16 -0.4577; 17 -0.5115; 18 -0.4373; 19 -0.4563; 20 -0.5396; 21 -0.5562; 22 -0.4875; 23 -0.3449; 24 -0.3679; 25 -0.1938; 26 -0.3385; 27 -0.4321; 28 -0.6184; 29 7.3134; 30 -0.5638; 31 -0.5136; 32 -0.2004; 33 -0.3063; 34 -0.4487; 35 -0.5000; 36 -0.4566; 37 -0.5115; 38 -0.4365; 39 -0.4564; 40 -0.5396; 41 -0.5557; 42 -0.4868; 43 -0.3557; 44 -0.3681; 45 -0.1937; 46 -0.3384; 47 0.8016; 48 3.0938; 49 -0.3562; 50 -0.5649; 51 2.2979; 52 -0.2004; 53 -0.3068; 54 -0.4489; 55 -0.5000; 56 -0.4572; 57 -0.5112; 58 -0.4364; 59 -0.4565; ,0 -0.5394; 1 -0.5559; 2 -0.4873; 3 -0.3469; 4 -0.3680; 5 -0.1936; 6 -0.3383; 7 -0.4317; 8 -0.6192; 9 7.3704; 10 -0.5646; 11 -0.5151; 12 -0.2005; 13 -0.3063; 14 -0.4491; 15 -0.5005; 16 -0.4577; 17 -0.5115; 18 -0.4373; 19 -0.4563; 20 -0.5396; 21 -0.5562; 22 -0.4875; 23 -0.3449; 24 -0.3679; 25 -0.1938; 26 -0.3385; 27 0.7929; 28 3.0546; 29 -0.3556; 30 -0.5638; 31 2.2700; 32 -0.2004; 33 -0.3063; 34 -0.4487; 35 -0.5000; 36 -0.4566; 37 -0.5115; 38 -0.4365; 39 -0.4564; 40 2.7951; 41 -0.5557; 42 -0.4868; 43 -0.3557; 44 2.2371; 45 -0.1937; 46 -0.3384; 47 -0.4318; 48 1.7296; 49 -0.3562; 50 -0.5649; 51 -0.5151; 52 -0.2004; 53 -0.3068; 54 -0.4489; 55 -0.5000; 56 -0.4572; 57 -0.5112; 58 -0.4364; 59 -0.4565; ,0 -0.5394; 1 -0.5559; 2 -0.4873; 3 -0.3469; 4 -0.3680; 5 -0.1936; 6 -0.3383; 7 0.7995; 8 3.0816; 9 -0.3561; 10 -0.5646; 11 2.2911; 12 -0.2005; 13 -0.3063; 14 -0.4491; 15 -0.5005; 16 -0.4577; 17 -0.5115; 18 -0.4373; 19 -0.4563; 20 2.7777; 21 -0.5562; 22 -0.4875; 23 -0.3449; 24 2.2246; 25 -0.1938; 26 -0.3385; 27 -0.4321; 28 1.7053; 29 -0.3556; 30 -0.5638; 31 -0.5136; 32 -0.2004; 33 -0.3063; 34 -0.4487; 35 -0.5000; 36 -0.4566; 37 -0.5115; 38 -0.4365; 39 -0.4564; 40 -0.5396; 41 -0.5557; 42 -0.4868; 43 -0.3557; 44 -0.3681; 45 -0.1937; 46 -0.3384; 47 -0.4318; 48 -0.6198; 49 -0.3562; 50 3.8336; 51 4.1128; 52 -0.2004; 53 -0.3068; 54 -0.4489; 55 -0.5000; 56 -0.4572; 57 -0.5112; 58 -0.4364; 59 -0.4565; ,0 2.7914; 1 -0.5559; 2 -0.4873; 3 -0.3469; 4 2.2424; 5 -0.1936; 6 -0.3383; 7 -0.4317; 8 1.7221; 9 -0.3561; 10 -0.5646; 11 -0.5151; 12 -0.2005; 13 -0.3063; 14 -0.4491; 15 -0.5005; 16 -0.4577; 17 -0.5115; 18 -0.4373; 19 -0.4563; 20 -0.5396; 21 -0.5562; 22 -0.4875; 23 -0.3449; 24 -0.3679; 25 -0.1938; 26 -0.3385; 27 -0.4321; 28 -0.6184; 29 -0.3556; 30 3.7785; 31 4.0659; 32 -0.2004; 33 -0.3063; 34 -0.4487; 35 -0.5000; 36 -0.4566; 37 -0.5115; 38 -0.4365; 39 -0.4564; 40 7.4003; 41 -0.5557; 42 -0.4868; 43 -0.3557; 44 -0.3681; 45 -0.1937; 46 -0.3384; 47 -0.4318; 48 -0.6198; 49 -0.3562; 50 -0.5649; 51 -0.5151; 52 -0.2004; 53 -0.3068; 54 -0.4489; 55 -0.5000; 56 -0.4572; 57 -0.5112; 58 -0.4364; 59 -0.4565; \n",
       "y: CategoryList\n",
       "0,0,1,1,1\n",
       "Path: /Users/ghost/Desktop/PSSP_Playground/trainSet0PlusOne.csv;\n",
       "\n",
       "Valid: LabelList (7289 items)\n",
       "x: TabularList\n",
       "0 -0.5394; 1 -0.5559; 2 -0.4873; 3 -0.3469; 4 -0.3680; 5 -0.1936; 6 -0.3383; 7 -0.4317; 8 -0.6192; 9 -0.3561; 10 -0.5646; 11 -0.5151; 12 -0.2005; 13 -0.3063; 14 -0.4491; 15 4.1493; 16 -0.4577; 17 3.3386; 18 0.0498; 19 -0.4563; 20 -0.5396; 21 -0.5562; 22 -0.4875; 23 -0.3449; 24 -0.3679; 25 -0.1938; 26 -0.3385; 27 -0.4321; 28 -0.6184; 29 -0.3556; 30 -0.5638; 31 -0.5136; 32 -0.2004; 33 -0.3063; 34 -0.4487; 35 -0.5000; 36 -0.4566; 37 6.1241; 38 -0.4365; 39 1.2781; 40 -0.5396; 41 1.2078; 42 1.8938; 43 1.4969; 44 -0.3681; 45 -0.1937; 46 -0.3384; 47 -0.4318; 48 -0.6198; 49 -0.3562; 50 -0.5649; 51 -0.5151; 52 -0.2004; 53 -0.3068; 54 -0.4489; 55 0.0550; 56 -0.4572; 57 -0.5112; 58 -0.4364; 59 1.7617; ,0 -0.5394; 1 -0.5559; 2 -0.4873; 3 -0.3469; 4 -0.3680; 5 -0.1936; 6 -0.3383; 7 -0.4317; 8 -0.6192; 9 -0.3561; 10 -0.5646; 11 -0.5151; 12 -0.2005; 13 -0.3063; 14 -0.4491; 15 -0.5005; 16 -0.4577; 17 6.1621; 18 -0.4373; 19 1.2835; 20 -0.5396; 21 1.2021; 22 1.8875; 23 1.4066; 24 -0.3679; 25 -0.1938; 26 -0.3385; 27 -0.4321; 28 -0.6184; 29 -0.3556; 30 -0.5638; 31 -0.5136; 32 -0.2004; 33 -0.3063; 34 -0.4487; 35 0.0528; 36 -0.4566; 37 -0.5115; 38 -0.4365; 39 1.7511; 40 -0.5396; 41 -0.5557; 42 -0.4868; 43 -0.3557; 44 -0.3681; 45 -0.1937; 46 -0.3384; 47 5.4417; 48 -0.6198; 49 -0.3562; 50 -0.5649; 51 -0.5151; 52 -0.2004; 53 -0.3068; 54 -0.4489; 55 -0.5000; 56 -0.4572; 57 -0.5112; 58 -0.4364; 59 -0.4565; ,0 -0.5394; 1 1.2130; 2 1.8983; 3 1.4289; 4 -0.3680; 5 -0.1936; 6 -0.3383; 7 -0.4317; 8 -0.6192; 9 -0.3561; 10 -0.5646; 11 -0.5151; 12 -0.2005; 13 -0.3063; 14 -0.4491; 15 0.0575; 16 -0.4577; 17 -0.5115; 18 -0.4373; 19 1.7580; 20 -0.5396; 21 -0.5562; 22 -0.4875; 23 -0.3449; 24 -0.3679; 25 -0.1938; 26 -0.3385; 27 5.4009; 28 -0.6184; 29 -0.3556; 30 -0.5638; 31 -0.5136; 32 -0.2004; 33 -0.3063; 34 -0.4487; 35 -0.5000; 36 -0.4566; 37 -0.5115; 38 -0.4365; 39 -0.4564; 40 -0.5396; 41 -0.5557; 42 -0.4868; 43 -0.3557; 44 -0.3681; 45 -0.1937; 46 -0.3384; 47 -0.4318; 48 -0.6198; 49 -0.3562; 50 -0.5649; 51 0.9368; 52 -0.2004; 53 -0.3068; 54 -0.4489; 55 0.0550; 56 -0.4572; 57 -0.5112; 58 7.1273; 59 -0.4565; ,0 -0.5394; 1 -0.5559; 2 -0.4873; 3 -0.3469; 4 -0.3680; 5 -0.1936; 6 -0.3383; 7 5.4314; 8 -0.6192; 9 -0.3561; 10 -0.5646; 11 -0.5151; 12 -0.2005; 13 -0.3063; 14 -0.4491; 15 -0.5005; 16 -0.4577; 17 -0.5115; 18 -0.4373; 19 -0.4563; 20 -0.5396; 21 -0.5562; 22 -0.4875; 23 -0.3449; 24 -0.3679; 25 -0.1938; 26 -0.3385; 27 -0.4321; 28 -0.6184; 29 -0.3556; 30 -0.5638; 31 0.9231; 32 -0.2004; 33 -0.3063; 34 -0.4487; 35 0.0528; 36 -0.4566; 37 -0.5115; 38 7.0996; 39 -0.4564; 40 -0.5396; 41 -0.5557; 42 -0.4868; 43 -0.3557; 44 -0.3681; 45 -0.1937; 46 -0.3384; 47 5.4417; 48 -0.6198; 49 -0.3562; 50 -0.5649; 51 -0.5151; 52 -0.2004; 53 -0.3068; 54 -0.4489; 55 -0.5000; 56 -0.4572; 57 -0.5112; 58 -0.4364; 59 -0.4565; ,0 -0.5394; 1 -0.5559; 2 -0.4873; 3 -0.3469; 4 -0.3680; 5 -0.1936; 6 -0.3383; 7 -0.4317; 8 -0.6192; 9 -0.3561; 10 -0.5646; 11 0.9333; 12 -0.2005; 13 -0.3063; 14 -0.4491; 15 0.0575; 16 -0.4577; 17 -0.5115; 18 7.1610; 19 -0.4563; 20 -0.5396; 21 -0.5562; 22 -0.4875; 23 -0.3449; 24 -0.3679; 25 -0.1938; 26 -0.3385; 27 5.4009; 28 -0.6184; 29 -0.3556; 30 -0.5638; 31 -0.5136; 32 -0.2004; 33 -0.3063; 34 -0.4487; 35 -0.5000; 36 -0.4566; 37 -0.5115; 38 -0.4365; 39 -0.4564; 40 -0.5396; 41 -0.5557; 42 -0.4868; 43 -0.3557; 44 -0.3681; 45 -0.1937; 46 -0.3384; 47 -0.4318; 48 -0.6198; 49 -0.3562; 50 -0.5649; 51 -0.5151; 52 11.2168; 53 -0.3068; 54 -0.4489; 55 -0.5000; 56 -0.4572; 57 -0.5112; 58 -0.4364; 59 -0.4565; \n",
       "y: CategoryList\n",
       "1,0,0,0,0\n",
       "Path: /Users/ghost/Desktop/PSSP_Playground/trainSet0PlusOne.csv;\n",
       "\n",
       "Test: LabelList (7289 items)\n",
       "x: TabularList\n",
       "0 -0.5394; 1 -0.5559; 2 -0.4873; 3 -0.3469; 4 -0.3680; 5 -0.1936; 6 -0.3383; 7 -0.4317; 8 -0.6192; 9 -0.3561; 10 -0.5646; 11 -0.5151; 12 -0.2005; 13 -0.3063; 14 -0.4491; 15 -0.5005; 16 -0.4577; 17 -0.5115; 18 -0.4373; 19 -0.4563; 20 -0.5396; 21 -0.5562; 22 -0.4875; 23 -0.3449; 24 -0.3679; 25 -0.1938; 26 -0.3385; 27 -0.4321; 28 -0.6184; 29 -0.3556; 30 -0.5638; 31 -0.5136; 32 -0.2004; 33 -0.3063; 34 -0.4487; 35 0.6055; 36 1.0290; 37 3.9973; 38 -0.4365; 39 1.3569; 40 1.1278; 41 -0.1638; 42 0.2185; 43 0.8232; 44 -0.3681; 45 -0.1937; 46 -0.3384; 47 -0.1969; 48 1.2749; 49 -0.3562; 50 -0.3853; 51 -0.1522; 52 -0.2004; 53 -0.1780; 54 -0.3592; 55 -0.5000; 56 -0.4572; 57 -0.4259; 58 -0.4364; 59 1.1280; ,0 -0.5394; 1 -0.5559; 2 -0.4873; 3 -0.3469; 4 -0.3680; 5 -0.1936; 6 -0.3383; 7 -0.4317; 8 -0.6192; 9 -0.3561; 10 -0.5646; 11 -0.5151; 12 -0.2005; 13 -0.3063; 14 -0.4491; 15 0.6155; 16 1.0442; 17 4.0231; 18 -0.4373; 19 1.3626; 20 1.1190; 21 -0.1655; 22 0.2162; 23 0.7697; 24 -0.3679; 25 -0.1938; 26 -0.3385; 27 -0.1988; 28 1.2556; 29 -0.3556; 30 -0.3866; 31 -0.1544; 32 -0.2004; 33 -0.1782; 34 -0.3594; 35 -0.5000; 36 -0.4566; 37 -0.4265; 38 -0.4365; 39 1.1204; 40 -0.5396; 41 -0.5557; 42 -0.4868; 43 -0.3557; 44 -0.3681; 45 -0.1937; 46 -0.3384; 47 -0.1381; 48 0.6686; 49 -0.2788; 50 2.3974; 51 0.3923; 52 -0.2004; 53 -0.1780; 54 -0.3592; 55 -0.5000; 56 -0.3326; 57 1.0249; 58 0.1454; 59 -0.0604; ,0 1.1260; 1 -0.1628; 2 0.2196; 3 0.7831; 4 -0.3680; 5 -0.1936; 6 -0.3383; 7 -0.1972; 8 1.2690; 9 -0.3561; 10 -0.3857; 11 -0.1530; 12 -0.2005; 13 -0.1778; 14 -0.3592; 15 -0.5005; 16 -0.4577; 17 -0.4260; 18 -0.4373; 19 1.1253; 20 -0.5396; 21 -0.5562; 22 -0.4875; 23 -0.3449; 24 -0.3679; 25 -0.1938; 26 -0.3385; 27 -0.1404; 28 0.6559; 29 -0.2789; 30 2.3606; 31 0.3843; 32 -0.2004; 33 -0.1782; 34 -0.3594; 35 -0.5000; 36 -0.3328; 37 1.0198; 38 0.1432; 39 -0.0622; 40 -0.4602; 41 -0.3597; 42 -0.4868; 43 -0.3557; 44 -0.3681; 45 -0.1937; 46 -0.1466; 47 2.7399; 48 0.5170; 49 -0.2788; 50 0.3328; 51 -0.4244; 52 -0.2004; 53 -0.3068; 54 -0.4489; 55 -0.3150; 56 -0.0835; 57 -0.0845; 58 -0.4364; 59 -0.2188; ,0 -0.5394; 1 -0.5559; 2 -0.4873; 3 -0.3469; 4 -0.3680; 5 -0.1936; 6 -0.3383; 7 -0.1386; 8 0.6648; 9 -0.2788; 10 2.3875; 11 0.3901; 12 -0.2005; 13 -0.1778; 14 -0.3592; 15 -0.5005; 16 -0.3326; 17 1.0285; 18 0.1472; 19 -0.0609; 20 -0.4606; 21 -0.3608; 22 -0.4875; 23 -0.3449; 24 -0.3679; 25 -0.1938; 26 -0.1473; 27 2.7177; 28 0.5060; 29 -0.2789; 30 0.3224; 31 -0.4238; 32 -0.2004; 33 -0.3063; 34 -0.4487; 35 -0.3157; 36 -0.0852; 37 -0.0862; 38 -0.4365; 39 -0.2199; 40 -0.4602; 41 -0.4904; 42 -0.4868; 43 -0.3557; 44 0.0041; 45 -0.1937; 46 -0.1466; 47 0.1556; 48 -0.4683; 49 -0.3562; 50 0.1533; 51 0.3016; 52 -0.2004; 53 2.3978; 54 -0.4489; 55 -0.1300; 56 -0.2081; 57 0.5129; 58 0.5333; 59 0.6526; ,0 -0.4601; 1 -0.3593; 2 -0.4873; 3 -0.3469; 4 -0.3680; 5 -0.1936; 6 -0.1462; 7 2.7344; 8 0.5137; 9 -0.2788; 10 0.3299; 11 -0.4246; 12 -0.2005; 13 -0.3063; 14 -0.4491; 15 -0.3145; 16 -0.0822; 17 -0.0837; 18 -0.4373; 19 -0.2190; 20 -0.4606; 21 -0.4911; 22 -0.4875; 23 -0.3449; 24 0.0025; 25 -0.1938; 26 -0.1473; 27 0.1512; 28 -0.4685; 29 -0.3556; 30 0.1451; 31 0.2946; 32 -0.2004; 33 2.3836; 34 -0.4487; 35 -0.1315; 36 -0.2090; 37 0.5093; 38 0.5297; 39 0.6474; 40 0.8896; 41 -0.2291; 42 0.0422; 43 0.1495; 44 -0.2750; 45 -0.1937; 46 -0.3384; 47 -0.3143; 48 0.5170; 49 -0.1241; 50 -0.2956; 51 0.7553; 52 -0.2004; 53 -0.3068; 54 -0.0899; 55 -0.1300; 56 0.1655; 57 0.3422; 58 -0.3395; 59 0.0189; \n",
       "y: EmptyLabelList\n",
       ",,,,\n",
       "Path: /Users/ghost/Desktop/PSSP_Playground/trainSet0PlusOne.csv, model=TabularModel(\n",
       "  (embeds): ModuleList()\n",
       "  (emb_drop): Dropout(p=0.0, inplace=False)\n",
       "  (bn_cont): BatchNorm1d(60, eps=1e-05, momentum=0.1, affine=True, track_running_stats=True)\n",
       "  (layers): Sequential(\n",
       "    (0): Linear(in_features=60, out_features=200, bias=True)\n",
       "    (1): ReLU(inplace=True)\n",
       "    (2): BatchNorm1d(200, eps=1e-05, momentum=0.1, affine=True, track_running_stats=True)\n",
       "    (3): Linear(in_features=200, out_features=100, bias=True)\n",
       "    (4): ReLU(inplace=True)\n",
       "    (5): BatchNorm1d(100, eps=1e-05, momentum=0.1, affine=True, track_running_stats=True)\n",
       "    (6): Linear(in_features=100, out_features=4, bias=True)\n",
       "  )\n",
       "), opt_func=functools.partial(<class 'torch.optim.adam.Adam'>, betas=(0.9, 0.99)), loss_func=FlattenedLoss of CrossEntropyLoss(), metrics=[<function accuracy at 0x12f0b02f0>], true_wd=True, bn_wd=True, wd=0.01, train_bn=True, path=PosixPath('/Users/ghost/Desktop/PSSP_Playground/trainSet0PlusOne.csv'), model_dir='/Users/ghost/Desktop/PSSP_Playground', callback_fns=[functools.partial(<class 'fastai.basic_train.Recorder'>, add_time=True, silent=False)], callbacks=[], layer_groups=[Sequential(\n",
       "  (0): ModuleList()\n",
       "  (1): Dropout(p=0.0, inplace=False)\n",
       "  (2): BatchNorm1d(60, eps=1e-05, momentum=0.1, affine=True, track_running_stats=True)\n",
       "  (3): Linear(in_features=60, out_features=200, bias=True)\n",
       "  (4): ReLU(inplace=True)\n",
       "  (5): BatchNorm1d(200, eps=1e-05, momentum=0.1, affine=True, track_running_stats=True)\n",
       "  (6): Linear(in_features=200, out_features=100, bias=True)\n",
       "  (7): ReLU(inplace=True)\n",
       "  (8): BatchNorm1d(100, eps=1e-05, momentum=0.1, affine=True, track_running_stats=True)\n",
       "  (9): Linear(in_features=100, out_features=4, bias=True)\n",
       ")], add_time=True, silent=False, cb_fns_registered=True)"
      ]
     },
     "execution_count": 30,
     "metadata": {},
     "output_type": "execute_result"
    }
   ],
   "source": [
    "learn.load('stage-2')"
   ]
  },
  {
   "cell_type": "code",
   "execution_count": 32,
   "metadata": {},
   "outputs": [
    {
     "data": {
      "text/html": [
       "\n",
       "    <div>\n",
       "        <style>\n",
       "            /* Turns off some styling */\n",
       "            progress {\n",
       "                /* gets rid of default border in Firefox and Opera. */\n",
       "                border: none;\n",
       "                /* Needs to be in here for Safari polyfill so background images work as expected. */\n",
       "                background-size: auto;\n",
       "            }\n",
       "            .progress-bar-interrupted, .progress-bar-interrupted::-webkit-progress-bar {\n",
       "                background: #F44336;\n",
       "            }\n",
       "        </style>\n",
       "      <progress value='0' class='' max='4', style='width:300px; height:20px; vertical-align: middle;'></progress>\n",
       "      0.00% [0/4 00:00<00:00]\n",
       "    </div>\n",
       "    \n",
       "<table border=\"1\" class=\"dataframe\">\n",
       "  <thead>\n",
       "    <tr style=\"text-align: left;\">\n",
       "      <th>epoch</th>\n",
       "      <th>train_loss</th>\n",
       "      <th>valid_loss</th>\n",
       "      <th>accuracy</th>\n",
       "      <th>time</th>\n",
       "    </tr>\n",
       "  </thead>\n",
       "  <tbody>\n",
       "  </tbody>\n",
       "</table><p>\n",
       "\n",
       "    <div>\n",
       "        <style>\n",
       "            /* Turns off some styling */\n",
       "            progress {\n",
       "                /* gets rid of default border in Firefox and Opera. */\n",
       "                border: none;\n",
       "                /* Needs to be in here for Safari polyfill so background images work as expected. */\n",
       "                background-size: auto;\n",
       "            }\n",
       "            .progress-bar-interrupted, .progress-bar-interrupted::-webkit-progress-bar {\n",
       "                background: #F44336;\n",
       "            }\n",
       "        </style>\n",
       "      <progress value='0' class='progress-bar-interrupted' max='1090', style='width:300px; height:20px; vertical-align: middle;'></progress>\n",
       "      Interrupted\n",
       "    </div>\n",
       "    "
      ],
      "text/plain": [
       "<IPython.core.display.HTML object>"
      ]
     },
     "metadata": {},
     "output_type": "display_data"
    },
    {
     "ename": "RuntimeError",
     "evalue": "DataLoader worker (pid 3614) is killed by signal: Unknown signal: 0. ",
     "output_type": "error",
     "traceback": [
      "\u001b[0;31m---------------------------------------------------------------------------\u001b[0m",
      "\u001b[0;31mRuntimeError\u001b[0m                              Traceback (most recent call last)",
      "\u001b[0;32m<ipython-input-32-75925cfeed7f>\u001b[0m in \u001b[0;36m<module>\u001b[0;34m\u001b[0m\n\u001b[0;32m----> 1\u001b[0;31m \u001b[0mlearn\u001b[0m\u001b[0;34m.\u001b[0m\u001b[0mfit_one_cycle\u001b[0m\u001b[0;34m(\u001b[0m\u001b[0;36m4\u001b[0m\u001b[0;34m,\u001b[0m \u001b[0mslice\u001b[0m\u001b[0;34m(\u001b[0m\u001b[0;36m3e-4\u001b[0m\u001b[0;34m)\u001b[0m\u001b[0;34m)\u001b[0m\u001b[0;34m\u001b[0m\u001b[0;34m\u001b[0m\u001b[0m\n\u001b[0m",
      "\u001b[0;32m~/.pyenv/versions/3.7.3/lib/python3.7/site-packages/fastai/train.py\u001b[0m in \u001b[0;36mfit_one_cycle\u001b[0;34m(learn, cyc_len, max_lr, moms, div_factor, pct_start, final_div, wd, callbacks, tot_epochs, start_epoch)\u001b[0m\n\u001b[1;32m     20\u001b[0m     callbacks.append(OneCycleScheduler(learn, max_lr, moms=moms, div_factor=div_factor, pct_start=pct_start,\n\u001b[1;32m     21\u001b[0m                                        final_div=final_div, tot_epochs=tot_epochs, start_epoch=start_epoch))\n\u001b[0;32m---> 22\u001b[0;31m     \u001b[0mlearn\u001b[0m\u001b[0;34m.\u001b[0m\u001b[0mfit\u001b[0m\u001b[0;34m(\u001b[0m\u001b[0mcyc_len\u001b[0m\u001b[0;34m,\u001b[0m \u001b[0mmax_lr\u001b[0m\u001b[0;34m,\u001b[0m \u001b[0mwd\u001b[0m\u001b[0;34m=\u001b[0m\u001b[0mwd\u001b[0m\u001b[0;34m,\u001b[0m \u001b[0mcallbacks\u001b[0m\u001b[0;34m=\u001b[0m\u001b[0mcallbacks\u001b[0m\u001b[0;34m)\u001b[0m\u001b[0;34m\u001b[0m\u001b[0;34m\u001b[0m\u001b[0m\n\u001b[0m\u001b[1;32m     23\u001b[0m \u001b[0;34m\u001b[0m\u001b[0m\n\u001b[1;32m     24\u001b[0m \u001b[0;32mdef\u001b[0m \u001b[0mlr_find\u001b[0m\u001b[0;34m(\u001b[0m\u001b[0mlearn\u001b[0m\u001b[0;34m:\u001b[0m\u001b[0mLearner\u001b[0m\u001b[0;34m,\u001b[0m \u001b[0mstart_lr\u001b[0m\u001b[0;34m:\u001b[0m\u001b[0mFloats\u001b[0m\u001b[0;34m=\u001b[0m\u001b[0;36m1e-7\u001b[0m\u001b[0;34m,\u001b[0m \u001b[0mend_lr\u001b[0m\u001b[0;34m:\u001b[0m\u001b[0mFloats\u001b[0m\u001b[0;34m=\u001b[0m\u001b[0;36m10\u001b[0m\u001b[0;34m,\u001b[0m \u001b[0mnum_it\u001b[0m\u001b[0;34m:\u001b[0m\u001b[0mint\u001b[0m\u001b[0;34m=\u001b[0m\u001b[0;36m100\u001b[0m\u001b[0;34m,\u001b[0m \u001b[0mstop_div\u001b[0m\u001b[0;34m:\u001b[0m\u001b[0mbool\u001b[0m\u001b[0;34m=\u001b[0m\u001b[0;32mTrue\u001b[0m\u001b[0;34m,\u001b[0m \u001b[0mwd\u001b[0m\u001b[0;34m:\u001b[0m\u001b[0mfloat\u001b[0m\u001b[0;34m=\u001b[0m\u001b[0;32mNone\u001b[0m\u001b[0;34m)\u001b[0m\u001b[0;34m:\u001b[0m\u001b[0;34m\u001b[0m\u001b[0;34m\u001b[0m\u001b[0m\n",
      "\u001b[0;32m~/.pyenv/versions/3.7.3/lib/python3.7/site-packages/fastai/basic_train.py\u001b[0m in \u001b[0;36mfit\u001b[0;34m(self, epochs, lr, wd, callbacks)\u001b[0m\n\u001b[1;32m    200\u001b[0m         \u001b[0mcallbacks\u001b[0m \u001b[0;34m=\u001b[0m \u001b[0;34m[\u001b[0m\u001b[0mcb\u001b[0m\u001b[0;34m(\u001b[0m\u001b[0mself\u001b[0m\u001b[0;34m)\u001b[0m \u001b[0;32mfor\u001b[0m \u001b[0mcb\u001b[0m \u001b[0;32min\u001b[0m \u001b[0mself\u001b[0m\u001b[0;34m.\u001b[0m\u001b[0mcallback_fns\u001b[0m \u001b[0;34m+\u001b[0m \u001b[0mlistify\u001b[0m\u001b[0;34m(\u001b[0m\u001b[0mdefaults\u001b[0m\u001b[0;34m.\u001b[0m\u001b[0mextra_callback_fns\u001b[0m\u001b[0;34m)\u001b[0m\u001b[0;34m]\u001b[0m \u001b[0;34m+\u001b[0m \u001b[0mlistify\u001b[0m\u001b[0;34m(\u001b[0m\u001b[0mcallbacks\u001b[0m\u001b[0;34m)\u001b[0m\u001b[0;34m\u001b[0m\u001b[0;34m\u001b[0m\u001b[0m\n\u001b[1;32m    201\u001b[0m         \u001b[0mself\u001b[0m\u001b[0;34m.\u001b[0m\u001b[0mcb_fns_registered\u001b[0m \u001b[0;34m=\u001b[0m \u001b[0;32mTrue\u001b[0m\u001b[0;34m\u001b[0m\u001b[0;34m\u001b[0m\u001b[0m\n\u001b[0;32m--> 202\u001b[0;31m         \u001b[0mfit\u001b[0m\u001b[0;34m(\u001b[0m\u001b[0mepochs\u001b[0m\u001b[0;34m,\u001b[0m \u001b[0mself\u001b[0m\u001b[0;34m,\u001b[0m \u001b[0mmetrics\u001b[0m\u001b[0;34m=\u001b[0m\u001b[0mself\u001b[0m\u001b[0;34m.\u001b[0m\u001b[0mmetrics\u001b[0m\u001b[0;34m,\u001b[0m \u001b[0mcallbacks\u001b[0m\u001b[0;34m=\u001b[0m\u001b[0mself\u001b[0m\u001b[0;34m.\u001b[0m\u001b[0mcallbacks\u001b[0m\u001b[0;34m+\u001b[0m\u001b[0mcallbacks\u001b[0m\u001b[0;34m)\u001b[0m\u001b[0;34m\u001b[0m\u001b[0;34m\u001b[0m\u001b[0m\n\u001b[0m\u001b[1;32m    203\u001b[0m \u001b[0;34m\u001b[0m\u001b[0m\n\u001b[1;32m    204\u001b[0m     \u001b[0;32mdef\u001b[0m \u001b[0mcreate_opt\u001b[0m\u001b[0;34m(\u001b[0m\u001b[0mself\u001b[0m\u001b[0;34m,\u001b[0m \u001b[0mlr\u001b[0m\u001b[0;34m:\u001b[0m\u001b[0mFloats\u001b[0m\u001b[0;34m,\u001b[0m \u001b[0mwd\u001b[0m\u001b[0;34m:\u001b[0m\u001b[0mFloats\u001b[0m\u001b[0;34m=\u001b[0m\u001b[0;36m0.\u001b[0m\u001b[0;34m)\u001b[0m\u001b[0;34m->\u001b[0m\u001b[0;32mNone\u001b[0m\u001b[0;34m:\u001b[0m\u001b[0;34m\u001b[0m\u001b[0;34m\u001b[0m\u001b[0m\n",
      "\u001b[0;32m~/.pyenv/versions/3.7.3/lib/python3.7/site-packages/fastai/basic_train.py\u001b[0m in \u001b[0;36mfit\u001b[0;34m(epochs, learn, callbacks, metrics)\u001b[0m\n\u001b[1;32m     97\u001b[0m             \u001b[0mcb_handler\u001b[0m\u001b[0;34m.\u001b[0m\u001b[0mset_dl\u001b[0m\u001b[0;34m(\u001b[0m\u001b[0mlearn\u001b[0m\u001b[0;34m.\u001b[0m\u001b[0mdata\u001b[0m\u001b[0;34m.\u001b[0m\u001b[0mtrain_dl\u001b[0m\u001b[0;34m)\u001b[0m\u001b[0;34m\u001b[0m\u001b[0;34m\u001b[0m\u001b[0m\n\u001b[1;32m     98\u001b[0m             \u001b[0mcb_handler\u001b[0m\u001b[0;34m.\u001b[0m\u001b[0mon_epoch_begin\u001b[0m\u001b[0;34m(\u001b[0m\u001b[0;34m)\u001b[0m\u001b[0;34m\u001b[0m\u001b[0;34m\u001b[0m\u001b[0m\n\u001b[0;32m---> 99\u001b[0;31m             \u001b[0;32mfor\u001b[0m \u001b[0mxb\u001b[0m\u001b[0;34m,\u001b[0m\u001b[0myb\u001b[0m \u001b[0;32min\u001b[0m \u001b[0mprogress_bar\u001b[0m\u001b[0;34m(\u001b[0m\u001b[0mlearn\u001b[0m\u001b[0;34m.\u001b[0m\u001b[0mdata\u001b[0m\u001b[0;34m.\u001b[0m\u001b[0mtrain_dl\u001b[0m\u001b[0;34m,\u001b[0m \u001b[0mparent\u001b[0m\u001b[0;34m=\u001b[0m\u001b[0mpbar\u001b[0m\u001b[0;34m)\u001b[0m\u001b[0;34m:\u001b[0m\u001b[0;34m\u001b[0m\u001b[0;34m\u001b[0m\u001b[0m\n\u001b[0m\u001b[1;32m    100\u001b[0m                 \u001b[0mxb\u001b[0m\u001b[0;34m,\u001b[0m \u001b[0myb\u001b[0m \u001b[0;34m=\u001b[0m \u001b[0mcb_handler\u001b[0m\u001b[0;34m.\u001b[0m\u001b[0mon_batch_begin\u001b[0m\u001b[0;34m(\u001b[0m\u001b[0mxb\u001b[0m\u001b[0;34m,\u001b[0m \u001b[0myb\u001b[0m\u001b[0;34m)\u001b[0m\u001b[0;34m\u001b[0m\u001b[0;34m\u001b[0m\u001b[0m\n\u001b[1;32m    101\u001b[0m                 \u001b[0mloss\u001b[0m \u001b[0;34m=\u001b[0m \u001b[0mloss_batch\u001b[0m\u001b[0;34m(\u001b[0m\u001b[0mlearn\u001b[0m\u001b[0;34m.\u001b[0m\u001b[0mmodel\u001b[0m\u001b[0;34m,\u001b[0m \u001b[0mxb\u001b[0m\u001b[0;34m,\u001b[0m \u001b[0myb\u001b[0m\u001b[0;34m,\u001b[0m \u001b[0mlearn\u001b[0m\u001b[0;34m.\u001b[0m\u001b[0mloss_func\u001b[0m\u001b[0;34m,\u001b[0m \u001b[0mlearn\u001b[0m\u001b[0;34m.\u001b[0m\u001b[0mopt\u001b[0m\u001b[0;34m,\u001b[0m \u001b[0mcb_handler\u001b[0m\u001b[0;34m)\u001b[0m\u001b[0;34m\u001b[0m\u001b[0;34m\u001b[0m\u001b[0m\n",
      "\u001b[0;32m~/.pyenv/versions/3.7.3/lib/python3.7/site-packages/fastprogress/fastprogress.py\u001b[0m in \u001b[0;36m__iter__\u001b[0;34m(self)\u001b[0m\n\u001b[1;32m     70\u001b[0m         \u001b[0mself\u001b[0m\u001b[0;34m.\u001b[0m\u001b[0mupdate\u001b[0m\u001b[0;34m(\u001b[0m\u001b[0;36m0\u001b[0m\u001b[0;34m)\u001b[0m\u001b[0;34m\u001b[0m\u001b[0;34m\u001b[0m\u001b[0m\n\u001b[1;32m     71\u001b[0m         \u001b[0;32mtry\u001b[0m\u001b[0;34m:\u001b[0m\u001b[0;34m\u001b[0m\u001b[0;34m\u001b[0m\u001b[0m\n\u001b[0;32m---> 72\u001b[0;31m             \u001b[0;32mfor\u001b[0m \u001b[0mi\u001b[0m\u001b[0;34m,\u001b[0m\u001b[0mo\u001b[0m \u001b[0;32min\u001b[0m \u001b[0menumerate\u001b[0m\u001b[0;34m(\u001b[0m\u001b[0mself\u001b[0m\u001b[0;34m.\u001b[0m\u001b[0m_gen\u001b[0m\u001b[0;34m)\u001b[0m\u001b[0;34m:\u001b[0m\u001b[0;34m\u001b[0m\u001b[0;34m\u001b[0m\u001b[0m\n\u001b[0m\u001b[1;32m     73\u001b[0m                 \u001b[0;32mif\u001b[0m \u001b[0mi\u001b[0m \u001b[0;34m>=\u001b[0m \u001b[0mself\u001b[0m\u001b[0;34m.\u001b[0m\u001b[0mtotal\u001b[0m\u001b[0;34m:\u001b[0m \u001b[0;32mbreak\u001b[0m\u001b[0;34m\u001b[0m\u001b[0;34m\u001b[0m\u001b[0m\n\u001b[1;32m     74\u001b[0m                 \u001b[0;32myield\u001b[0m \u001b[0mo\u001b[0m\u001b[0;34m\u001b[0m\u001b[0;34m\u001b[0m\u001b[0m\n",
      "\u001b[0;32m~/.pyenv/versions/3.7.3/lib/python3.7/site-packages/fastai/basic_data.py\u001b[0m in \u001b[0;36m__iter__\u001b[0;34m(self)\u001b[0m\n\u001b[1;32m     73\u001b[0m     \u001b[0;32mdef\u001b[0m \u001b[0m__iter__\u001b[0m\u001b[0;34m(\u001b[0m\u001b[0mself\u001b[0m\u001b[0;34m)\u001b[0m\u001b[0;34m:\u001b[0m\u001b[0;34m\u001b[0m\u001b[0;34m\u001b[0m\u001b[0m\n\u001b[1;32m     74\u001b[0m         \u001b[0;34m\"Process and returns items from `DataLoader`.\"\u001b[0m\u001b[0;34m\u001b[0m\u001b[0;34m\u001b[0m\u001b[0m\n\u001b[0;32m---> 75\u001b[0;31m         \u001b[0;32mfor\u001b[0m \u001b[0mb\u001b[0m \u001b[0;32min\u001b[0m \u001b[0mself\u001b[0m\u001b[0;34m.\u001b[0m\u001b[0mdl\u001b[0m\u001b[0;34m:\u001b[0m \u001b[0;32myield\u001b[0m \u001b[0mself\u001b[0m\u001b[0;34m.\u001b[0m\u001b[0mproc_batch\u001b[0m\u001b[0;34m(\u001b[0m\u001b[0mb\u001b[0m\u001b[0;34m)\u001b[0m\u001b[0;34m\u001b[0m\u001b[0;34m\u001b[0m\u001b[0m\n\u001b[0m\u001b[1;32m     76\u001b[0m \u001b[0;34m\u001b[0m\u001b[0m\n\u001b[1;32m     77\u001b[0m     \u001b[0;34m@\u001b[0m\u001b[0mclassmethod\u001b[0m\u001b[0;34m\u001b[0m\u001b[0;34m\u001b[0m\u001b[0m\n",
      "\u001b[0;32m~/.pyenv/versions/3.7.3/lib/python3.7/site-packages/torch/utils/data/dataloader.py\u001b[0m in \u001b[0;36m__iter__\u001b[0;34m(self)\u001b[0m\n\u001b[1;32m    276\u001b[0m             \u001b[0;32mreturn\u001b[0m \u001b[0m_SingleProcessDataLoaderIter\u001b[0m\u001b[0;34m(\u001b[0m\u001b[0mself\u001b[0m\u001b[0;34m)\u001b[0m\u001b[0;34m\u001b[0m\u001b[0;34m\u001b[0m\u001b[0m\n\u001b[1;32m    277\u001b[0m         \u001b[0;32melse\u001b[0m\u001b[0;34m:\u001b[0m\u001b[0;34m\u001b[0m\u001b[0;34m\u001b[0m\u001b[0m\n\u001b[0;32m--> 278\u001b[0;31m             \u001b[0;32mreturn\u001b[0m \u001b[0m_MultiProcessingDataLoaderIter\u001b[0m\u001b[0;34m(\u001b[0m\u001b[0mself\u001b[0m\u001b[0;34m)\u001b[0m\u001b[0;34m\u001b[0m\u001b[0;34m\u001b[0m\u001b[0m\n\u001b[0m\u001b[1;32m    279\u001b[0m \u001b[0;34m\u001b[0m\u001b[0m\n\u001b[1;32m    280\u001b[0m     \u001b[0;34m@\u001b[0m\u001b[0mproperty\u001b[0m\u001b[0;34m\u001b[0m\u001b[0;34m\u001b[0m\u001b[0m\n",
      "\u001b[0;32m~/.pyenv/versions/3.7.3/lib/python3.7/site-packages/torch/utils/data/dataloader.py\u001b[0m in \u001b[0;36m__init__\u001b[0;34m(self, loader)\u001b[0m\n\u001b[1;32m    707\u001b[0m         \u001b[0;31m# prime the prefetch loop\u001b[0m\u001b[0;34m\u001b[0m\u001b[0;34m\u001b[0m\u001b[0;34m\u001b[0m\u001b[0m\n\u001b[1;32m    708\u001b[0m         \u001b[0;32mfor\u001b[0m \u001b[0m_\u001b[0m \u001b[0;32min\u001b[0m \u001b[0mrange\u001b[0m\u001b[0;34m(\u001b[0m\u001b[0;36m2\u001b[0m \u001b[0;34m*\u001b[0m \u001b[0mself\u001b[0m\u001b[0;34m.\u001b[0m\u001b[0mnum_workers\u001b[0m\u001b[0;34m)\u001b[0m\u001b[0;34m:\u001b[0m\u001b[0;34m\u001b[0m\u001b[0;34m\u001b[0m\u001b[0m\n\u001b[0;32m--> 709\u001b[0;31m             \u001b[0mself\u001b[0m\u001b[0;34m.\u001b[0m\u001b[0m_try_put_index\u001b[0m\u001b[0;34m(\u001b[0m\u001b[0;34m)\u001b[0m\u001b[0;34m\u001b[0m\u001b[0;34m\u001b[0m\u001b[0m\n\u001b[0m\u001b[1;32m    710\u001b[0m \u001b[0;34m\u001b[0m\u001b[0m\n\u001b[1;32m    711\u001b[0m     \u001b[0;32mdef\u001b[0m \u001b[0m_try_get_data\u001b[0m\u001b[0;34m(\u001b[0m\u001b[0mself\u001b[0m\u001b[0;34m,\u001b[0m \u001b[0mtimeout\u001b[0m\u001b[0;34m=\u001b[0m\u001b[0m_utils\u001b[0m\u001b[0;34m.\u001b[0m\u001b[0mMP_STATUS_CHECK_INTERVAL\u001b[0m\u001b[0;34m)\u001b[0m\u001b[0;34m:\u001b[0m\u001b[0;34m\u001b[0m\u001b[0;34m\u001b[0m\u001b[0m\n",
      "\u001b[0;32m~/.pyenv/versions/3.7.3/lib/python3.7/site-packages/torch/utils/data/dataloader.py\u001b[0m in \u001b[0;36m_try_put_index\u001b[0;34m(self)\u001b[0m\n\u001b[1;32m    824\u001b[0m         \u001b[0;32massert\u001b[0m \u001b[0mself\u001b[0m\u001b[0;34m.\u001b[0m\u001b[0mtasks_outstanding\u001b[0m \u001b[0;34m<\u001b[0m \u001b[0;36m2\u001b[0m \u001b[0;34m*\u001b[0m \u001b[0mself\u001b[0m\u001b[0;34m.\u001b[0m\u001b[0mnum_workers\u001b[0m\u001b[0;34m\u001b[0m\u001b[0;34m\u001b[0m\u001b[0m\n\u001b[1;32m    825\u001b[0m         \u001b[0;32mtry\u001b[0m\u001b[0;34m:\u001b[0m\u001b[0;34m\u001b[0m\u001b[0;34m\u001b[0m\u001b[0m\n\u001b[0;32m--> 826\u001b[0;31m             \u001b[0mindex\u001b[0m \u001b[0;34m=\u001b[0m \u001b[0mself\u001b[0m\u001b[0;34m.\u001b[0m\u001b[0m_next_index\u001b[0m\u001b[0;34m(\u001b[0m\u001b[0;34m)\u001b[0m\u001b[0;34m\u001b[0m\u001b[0;34m\u001b[0m\u001b[0m\n\u001b[0m\u001b[1;32m    827\u001b[0m         \u001b[0;32mexcept\u001b[0m \u001b[0mStopIteration\u001b[0m\u001b[0;34m:\u001b[0m\u001b[0;34m\u001b[0m\u001b[0;34m\u001b[0m\u001b[0m\n\u001b[1;32m    828\u001b[0m             \u001b[0;32mreturn\u001b[0m\u001b[0;34m\u001b[0m\u001b[0;34m\u001b[0m\u001b[0m\n",
      "\u001b[0;32m~/.pyenv/versions/3.7.3/lib/python3.7/site-packages/torch/utils/data/dataloader.py\u001b[0m in \u001b[0;36m_next_index\u001b[0;34m(self)\u001b[0m\n\u001b[1;32m    316\u001b[0m \u001b[0;34m\u001b[0m\u001b[0m\n\u001b[1;32m    317\u001b[0m     \u001b[0;32mdef\u001b[0m \u001b[0m_next_index\u001b[0m\u001b[0;34m(\u001b[0m\u001b[0mself\u001b[0m\u001b[0;34m)\u001b[0m\u001b[0;34m:\u001b[0m\u001b[0;34m\u001b[0m\u001b[0;34m\u001b[0m\u001b[0m\n\u001b[0;32m--> 318\u001b[0;31m         \u001b[0;32mreturn\u001b[0m \u001b[0mnext\u001b[0m\u001b[0;34m(\u001b[0m\u001b[0mself\u001b[0m\u001b[0;34m.\u001b[0m\u001b[0msampler_iter\u001b[0m\u001b[0;34m)\u001b[0m  \u001b[0;31m# may raise StopIteration\u001b[0m\u001b[0;34m\u001b[0m\u001b[0;34m\u001b[0m\u001b[0m\n\u001b[0m\u001b[1;32m    319\u001b[0m \u001b[0;34m\u001b[0m\u001b[0m\n\u001b[1;32m    320\u001b[0m     \u001b[0;32mdef\u001b[0m \u001b[0m__next__\u001b[0m\u001b[0;34m(\u001b[0m\u001b[0mself\u001b[0m\u001b[0;34m)\u001b[0m\u001b[0;34m:\u001b[0m\u001b[0;34m\u001b[0m\u001b[0;34m\u001b[0m\u001b[0m\n",
      "\u001b[0;32m~/.pyenv/versions/3.7.3/lib/python3.7/site-packages/torch/utils/data/sampler.py\u001b[0m in \u001b[0;36m__iter__\u001b[0;34m(self)\u001b[0m\n\u001b[1;32m    198\u001b[0m     \u001b[0;32mdef\u001b[0m \u001b[0m__iter__\u001b[0m\u001b[0;34m(\u001b[0m\u001b[0mself\u001b[0m\u001b[0;34m)\u001b[0m\u001b[0;34m:\u001b[0m\u001b[0;34m\u001b[0m\u001b[0;34m\u001b[0m\u001b[0m\n\u001b[1;32m    199\u001b[0m         \u001b[0mbatch\u001b[0m \u001b[0;34m=\u001b[0m \u001b[0;34m[\u001b[0m\u001b[0;34m]\u001b[0m\u001b[0;34m\u001b[0m\u001b[0;34m\u001b[0m\u001b[0m\n\u001b[0;32m--> 200\u001b[0;31m         \u001b[0;32mfor\u001b[0m \u001b[0midx\u001b[0m \u001b[0;32min\u001b[0m \u001b[0mself\u001b[0m\u001b[0;34m.\u001b[0m\u001b[0msampler\u001b[0m\u001b[0;34m:\u001b[0m\u001b[0;34m\u001b[0m\u001b[0;34m\u001b[0m\u001b[0m\n\u001b[0m\u001b[1;32m    201\u001b[0m             \u001b[0mbatch\u001b[0m\u001b[0;34m.\u001b[0m\u001b[0mappend\u001b[0m\u001b[0;34m(\u001b[0m\u001b[0midx\u001b[0m\u001b[0;34m)\u001b[0m\u001b[0;34m\u001b[0m\u001b[0;34m\u001b[0m\u001b[0m\n\u001b[1;32m    202\u001b[0m             \u001b[0;32mif\u001b[0m \u001b[0mlen\u001b[0m\u001b[0;34m(\u001b[0m\u001b[0mbatch\u001b[0m\u001b[0;34m)\u001b[0m \u001b[0;34m==\u001b[0m \u001b[0mself\u001b[0m\u001b[0;34m.\u001b[0m\u001b[0mbatch_size\u001b[0m\u001b[0;34m:\u001b[0m\u001b[0;34m\u001b[0m\u001b[0;34m\u001b[0m\u001b[0m\n",
      "\u001b[0;32m~/.pyenv/versions/3.7.3/lib/python3.7/site-packages/torch/utils/data/sampler.py\u001b[0m in \u001b[0;36m__iter__\u001b[0;34m(self)\u001b[0m\n\u001b[1;32m    105\u001b[0m         \u001b[0;32mif\u001b[0m \u001b[0mself\u001b[0m\u001b[0;34m.\u001b[0m\u001b[0mreplacement\u001b[0m\u001b[0;34m:\u001b[0m\u001b[0;34m\u001b[0m\u001b[0;34m\u001b[0m\u001b[0m\n\u001b[1;32m    106\u001b[0m             \u001b[0;32mreturn\u001b[0m \u001b[0miter\u001b[0m\u001b[0;34m(\u001b[0m\u001b[0mtorch\u001b[0m\u001b[0;34m.\u001b[0m\u001b[0mrandint\u001b[0m\u001b[0;34m(\u001b[0m\u001b[0mhigh\u001b[0m\u001b[0;34m=\u001b[0m\u001b[0mn\u001b[0m\u001b[0;34m,\u001b[0m \u001b[0msize\u001b[0m\u001b[0;34m=\u001b[0m\u001b[0;34m(\u001b[0m\u001b[0mself\u001b[0m\u001b[0;34m.\u001b[0m\u001b[0mnum_samples\u001b[0m\u001b[0;34m,\u001b[0m\u001b[0;34m)\u001b[0m\u001b[0;34m,\u001b[0m \u001b[0mdtype\u001b[0m\u001b[0;34m=\u001b[0m\u001b[0mtorch\u001b[0m\u001b[0;34m.\u001b[0m\u001b[0mint64\u001b[0m\u001b[0;34m)\u001b[0m\u001b[0;34m.\u001b[0m\u001b[0mtolist\u001b[0m\u001b[0;34m(\u001b[0m\u001b[0;34m)\u001b[0m\u001b[0;34m)\u001b[0m\u001b[0;34m\u001b[0m\u001b[0;34m\u001b[0m\u001b[0m\n\u001b[0;32m--> 107\u001b[0;31m         \u001b[0;32mreturn\u001b[0m \u001b[0miter\u001b[0m\u001b[0;34m(\u001b[0m\u001b[0mtorch\u001b[0m\u001b[0;34m.\u001b[0m\u001b[0mrandperm\u001b[0m\u001b[0;34m(\u001b[0m\u001b[0mn\u001b[0m\u001b[0;34m)\u001b[0m\u001b[0;34m.\u001b[0m\u001b[0mtolist\u001b[0m\u001b[0;34m(\u001b[0m\u001b[0;34m)\u001b[0m\u001b[0;34m)\u001b[0m\u001b[0;34m\u001b[0m\u001b[0;34m\u001b[0m\u001b[0m\n\u001b[0m\u001b[1;32m    108\u001b[0m \u001b[0;34m\u001b[0m\u001b[0m\n\u001b[1;32m    109\u001b[0m     \u001b[0;32mdef\u001b[0m \u001b[0m__len__\u001b[0m\u001b[0;34m(\u001b[0m\u001b[0mself\u001b[0m\u001b[0;34m)\u001b[0m\u001b[0;34m:\u001b[0m\u001b[0;34m\u001b[0m\u001b[0;34m\u001b[0m\u001b[0m\n",
      "\u001b[0;32m~/.pyenv/versions/3.7.3/lib/python3.7/site-packages/torch/utils/data/_utils/signal_handling.py\u001b[0m in \u001b[0;36mhandler\u001b[0;34m(signum, frame)\u001b[0m\n\u001b[1;32m     64\u001b[0m         \u001b[0;31m# This following call uses `waitid` with WNOHANG from C side. Therefore,\u001b[0m\u001b[0;34m\u001b[0m\u001b[0;34m\u001b[0m\u001b[0;34m\u001b[0m\u001b[0m\n\u001b[1;32m     65\u001b[0m         \u001b[0;31m# Python can still get and update the process status successfully.\u001b[0m\u001b[0;34m\u001b[0m\u001b[0;34m\u001b[0m\u001b[0;34m\u001b[0m\u001b[0m\n\u001b[0;32m---> 66\u001b[0;31m         \u001b[0m_error_if_any_worker_fails\u001b[0m\u001b[0;34m(\u001b[0m\u001b[0;34m)\u001b[0m\u001b[0;34m\u001b[0m\u001b[0;34m\u001b[0m\u001b[0m\n\u001b[0m\u001b[1;32m     67\u001b[0m         \u001b[0;32mif\u001b[0m \u001b[0mprevious_handler\u001b[0m \u001b[0;32mis\u001b[0m \u001b[0;32mnot\u001b[0m \u001b[0;32mNone\u001b[0m\u001b[0;34m:\u001b[0m\u001b[0;34m\u001b[0m\u001b[0;34m\u001b[0m\u001b[0m\n\u001b[1;32m     68\u001b[0m             \u001b[0mprevious_handler\u001b[0m\u001b[0;34m(\u001b[0m\u001b[0msignum\u001b[0m\u001b[0;34m,\u001b[0m \u001b[0mframe\u001b[0m\u001b[0;34m)\u001b[0m\u001b[0;34m\u001b[0m\u001b[0;34m\u001b[0m\u001b[0m\n",
      "\u001b[0;31mRuntimeError\u001b[0m: DataLoader worker (pid 3614) is killed by signal: Unknown signal: 0. "
     ]
    }
   ],
   "source": [
    "learn.fit_one_cycle(4, slice(3e-4))"
   ]
  },
  {
   "cell_type": "markdown",
   "metadata": {
    "colab_type": "text",
    "id": "wv-Nr0KS8mXS"
   },
   "source": [
    "Post training check"
   ]
  },
  {
   "cell_type": "code",
   "execution_count": 33,
   "metadata": {
    "colab": {
     "base_uri": "https://localhost:8080/",
     "height": 221
    },
    "colab_type": "code",
    "id": "8EdjSF4H3Jmp",
    "outputId": "49575e6b-597f-4975-b1b3-7db05d3fd883"
   },
   "outputs": [
    {
     "data": {
      "text/plain": [
       "0     0\n",
       "1     0\n",
       "2     0\n",
       "3     0\n",
       "4     0\n",
       "     ..\n",
       "56    0\n",
       "57    0\n",
       "58    0\n",
       "59    0\n",
       "60    0\n",
       "Name: 0, Length: 61, dtype: object"
      ]
     },
     "execution_count": 33,
     "metadata": {},
     "output_type": "execute_result"
    }
   ],
   "source": [
    "row = df.iloc[0]\n",
    "row"
   ]
  },
  {
   "cell_type": "code",
   "execution_count": 34,
   "metadata": {
    "colab": {
     "base_uri": "https://localhost:8080/",
     "height": 68
    },
    "colab_type": "code",
    "id": "3YkRfUjE3QZT",
    "outputId": "8e8b216c-69fc-471c-b8a5-7dbf5bf0e18c"
   },
   "outputs": [
    {
     "data": {
      "text/plain": [
       "(Category 0,\n",
       " tensor(1),\n",
       " tensor([3.4485e-04, 8.8341e-01, 7.4285e-02, 4.1964e-02]))"
      ]
     },
     "execution_count": 34,
     "metadata": {},
     "output_type": "execute_result"
    }
   ],
   "source": [
    "learn.predict(row)"
   ]
  },
  {
   "cell_type": "code",
   "execution_count": null,
   "metadata": {
    "colab": {},
    "colab_type": "code",
    "id": "E0rAJpLI6lvt"
   },
   "outputs": [],
   "source": []
  }
 ],
 "metadata": {
  "colab": {
   "collapsed_sections": [],
   "name": "PSSP.ipynb",
   "provenance": []
  },
  "kernelspec": {
   "display_name": "Python 3",
   "language": "python",
   "name": "python3"
  },
  "language_info": {
   "codemirror_mode": {
    "name": "ipython",
    "version": 3
   },
   "file_extension": ".py",
   "mimetype": "text/x-python",
   "name": "python",
   "nbconvert_exporter": "python",
   "pygments_lexer": "ipython3",
   "version": "3.7.3"
  }
 },
 "nbformat": 4,
 "nbformat_minor": 1
}
